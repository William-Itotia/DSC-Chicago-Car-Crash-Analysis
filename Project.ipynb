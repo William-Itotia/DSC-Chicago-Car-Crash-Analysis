{
 "cells": [
  {
   "cell_type": "markdown",
   "metadata": {},
   "source": [
    "## BUSINESS UNDERSTANDING\n",
    "\n",
    "# Overview\n",
    "\n",
    "Road accidents are a common occurrence in our daily lives, and it is likely that you or someone you know has been involved in one, hopefully without severe consequences. The ultimate goal is to reduce the number of road accidents. We will work with the Chicago Car Crash dataset to identify trends and predict the major causes of road accidents. By analyzing this data, we aim to develop strategies to reduce the frequency and severity of road accidents.\n",
    "\n",
    "# Business Problem \n",
    "\n",
    "For this project our stakeholders are NHTSA (National Highway Traffic Safety Administration) which is the governing body in the United States of America that deals with road safety. Our objectives for our stakeholders is to explain to them:\n",
    "    1. Predict the major cause of road accidents in Chicago\n",
    "    2. Identify the common trends of road accidents\n",
    "    3. Analyze the Temporal Distribution of Accidents, identify peak times and days of the week when accidents are most likely to occur.\n",
    "\n"
   ]
  },
  {
   "cell_type": "markdown",
   "metadata": {},
   "source": [
    "## DATA UNDERSTANDING\n",
    "\n",
    "For this project the dataset we will be using is the Chicago Car Crashes Dataset. This data set includes two csv files, Traffic Crashes - People and Traffic Crashes - Vehicles"
   ]
  },
  {
   "cell_type": "code",
   "execution_count": null,
   "metadata": {},
   "outputs": [],
   "source": []
  },
  {
   "cell_type": "code",
   "execution_count": null,
   "metadata": {},
   "outputs": [],
   "source": []
  }
 ],
 "metadata": {
  "kernelspec": {
   "display_name": "Python (learn-env)",
   "language": "python",
   "name": "learn-env"
  },
  "language_info": {
   "codemirror_mode": {
    "name": "ipython",
    "version": 3
   },
   "file_extension": ".py",
   "mimetype": "text/x-python",
   "name": "python",
   "nbconvert_exporter": "python",
   "pygments_lexer": "ipython3",
   "version": "3.8.5"
  }
 },
 "nbformat": 4,
 "nbformat_minor": 4
}
